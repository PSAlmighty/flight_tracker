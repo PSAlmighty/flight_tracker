{
 "cells": [
  {
   "cell_type": "code",
   "execution_count": 1,
   "metadata": {},
   "outputs": [],
   "source": [
    "from bs4 import BeautifulSoup\n",
    "from selenium import webdriver\n",
    "\n",
    "chromedriver_path = \"/Users/AliBaba/downloads/chromedriver\"\n",
    "\n",
    "browser = webdriver.Chrome(chromedriver_path)"
   ]
  },
  {
   "cell_type": "code",
   "execution_count": 2,
   "metadata": {},
   "outputs": [],
   "source": [
    "site = 'https://www.google.com/flights?hl=en#flt=/m/0rh6k.r/m/02j9z.2020-04-08*r/m/02j9z./m/0rh6k.2020-04-16;c:USD;e:1;ls:1w;sd:1;er:365396996.27095839.496776188.322408339;t:e'"
   ]
  },
  {
   "cell_type": "code",
   "execution_count": 3,
   "metadata": {},
   "outputs": [],
   "source": [
    "browser.get(site)"
   ]
  },
  {
   "cell_type": "code",
   "execution_count": 4,
   "metadata": {},
   "outputs": [
    {
     "data": {
      "text/plain": [
       "'Flights'"
      ]
     },
     "execution_count": 4,
     "metadata": {},
     "output_type": "execute_result"
    }
   ],
   "source": [
    "browser.title"
   ]
  },
  {
   "cell_type": "code",
   "execution_count": 5,
   "metadata": {},
   "outputs": [
    {
     "data": {
      "text/plain": [
       "True"
      ]
     },
     "execution_count": 5,
     "metadata": {},
     "output_type": "execute_result"
    }
   ],
   "source": [
    "browser.save_screenshot('/Users/AliBaba/ml/flight_images/test_flights.png')"
   ]
  },
  {
   "cell_type": "code",
   "execution_count": 6,
   "metadata": {},
   "outputs": [],
   "source": [
    "soup = BeautifulSoup(browser.page_source, 'html.parser')"
   ]
  },
  {
   "cell_type": "code",
   "execution_count": 7,
   "metadata": {},
   "outputs": [
    {
     "data": {
      "text/plain": [
       "<div class=\"uKOpFp4SF2X__info-container flt-body2\"><div class=\"uKOpFp4SF2X__card-header\"><h3 class=\"flt-subhead1\">Rome</h3><div class=\"gws-flights__flex-box gws-flights__align-center\"><img alt=\"Royal Air Maroc\" class=\"uKOpFp4SF2X__airline-logo gws-flights-results__small-logo\" height=\"16\" src=\"//www.gstatic.com/flights/airline_logos/32px/AT.png\" title=\"Royal Air Maroc\" width=\"16\"/><span class=\"gws-flights__flex-shrink gws-flights__ellipsize\">1 stop</span><div class=\"gws-flights__separator\"></div><span class=\"uKOpFp4SF2X__duration\">13h 50m</span></div></div><div class=\"uKOpFp4SF2X__price-container\"><div class=\"uKOpFp4SF2X__price-row\"><span class=\"uKOpFp4SF2X__price flt-subhead2\">$719</span></div></div></div>"
      ]
     },
     "execution_count": 7,
     "metadata": {},
     "output_type": "execute_result"
    }
   ],
   "source": [
    "cards = soup.select('div[class*=info-container]')\n",
    "cards[0]"
   ]
  },
  {
   "cell_type": "code",
   "execution_count": 8,
   "metadata": {},
   "outputs": [],
   "source": [
    "#for card in cards:\n",
    "#    print(card.select('h3')[0].text)\n",
    "#    print(card.select('span[class*=price]')[0].text)\n",
    "#    print('\\n')"
   ]
  },
  {
   "cell_type": "code",
   "execution_count": 38,
   "metadata": {},
   "outputs": [],
   "source": [
    "import datetime\n",
    "from datetime import date, timedelta\n",
    "from time import sleep\n",
    "import numpy as np\n",
    "\n",
    "start_day = '2020-03-29'\n",
    "end_day = '2020-04-12'\n",
    "\n",
    "start_date = datetime.datetime.strptime(start_day, '%Y-%m-%d')\n",
    "end_date = datetime.datetime.strptime(end_day, '%Y-%m-%d')\n",
    "\n",
    "fare_dict = {}\n",
    "\n",
    "for i in range(4):\n",
    "    start = str(start_date).split()[0]\n",
    "    end = str(end_date).split()[0]\n",
    "    \n",
    "    fare_dict.update({start: {}})\n",
    "    \n",
    "    sats = 'https://www.google.com/flights?hl=en#flt=/m/0rh6k.r/m/09b69.' + \\\n",
    "    start + '*r/m/09b69./m/0rh6k.' + end + \\\n",
    "    ';c:USD;e:1;ls:1w;sd:1;t:e'\n",
    "    \n",
    "    sleep(np.random.randint(3,7))\n",
    "    browser.get(sats)\n",
    "    \n",
    "    soup = BeautifulSoup(browser.page_source, 'html.parser')\n",
    "    \n",
    "    cards = soup.select('div[class*=info-container]')\n",
    "    \n",
    "    for card in cards:\n",
    "        city = card.select('h3')[0].text\n",
    "        fare = card.select('span[class*=price]')[0].text\n",
    "        fare_dict[start] = {**fare_dict[start], **{city: fare}}\n",
    "        \n",
    "    start_date = start_date + timedelta(days=1)\n",
    "    end_date = end_date + timedelta(days=1)"
   ]
  },
  {
   "cell_type": "code",
   "execution_count": 2,
   "metadata": {},
   "outputs": [],
   "source": [
    "def extract_price_info(start_day, end_day, front_url, middle_url, back_url):\n",
    "    start_date = datetime.datetime.strptime(start_day, '%Y-%m-%d')\n",
    "    end_date = datetime.datetime.strptime(end_day, '%Y-%m-%d')\n",
    "    \n",
    "    fare_dict = {}\n",
    "    \n",
    "    for i in range(28):\n",
    "        start = str(start_date).split()[0]\n",
    "        end = str(end_date).split()[0]\n",
    "    \n",
    "        fare_dict.update({start: {}})\n",
    "    \n",
    "        variable_url = front_url + start + middle_url + end + back_url\n",
    "    \n",
    "        sleep(np.random.randint(3,7))\n",
    "        browser.get(variable_url)\n",
    "    \n",
    "        soup = BeautifulSoup(browser.page_source, 'html.parser')\n",
    "    \n",
    "        cards = soup.select('div[class*=info-container]')\n",
    "    \n",
    "        for card in cards:\n",
    "            city = card.select('h3')[0].text\n",
    "            fare = card.select('span[class*=price]')[0].text\n",
    "            fare_dict[start] = {**fare_dict[start], **{city: fare}}\n",
    "        \n",
    "        start_date = start_date + timedelta(days=1)\n",
    "        end_date = end_date + timedelta(days=1)\n",
    "    \n",
    "    return fare_dict"
   ]
  },
  {
   "cell_type": "code",
   "execution_count": 12,
   "metadata": {},
   "outputs": [
    {
     "data": {
      "text/plain": [
       "dict_keys(['2020-03-29', '2020-03-30', '2020-03-31', '2020-04-01', '2020-04-02', '2020-04-03', '2020-04-04', '2020-04-05', '2020-04-06', '2020-04-07', '2020-04-08', '2020-04-09', '2020-04-10', '2020-04-11', '2020-04-12', '2020-04-13', '2020-04-14', '2020-04-15', '2020-04-16', '2020-04-17', '2020-04-18', '2020-04-19', '2020-04-20', '2020-04-21', '2020-04-22', '2020-04-23', '2020-04-24', '2020-04-25'])"
      ]
     },
     "execution_count": 12,
     "metadata": {},
     "output_type": "execute_result"
    }
   ],
   "source": [
    "fare_dict.keys()"
   ]
  },
  {
   "cell_type": "code",
   "execution_count": 13,
   "metadata": {},
   "outputs": [
    {
     "data": {
      "text/plain": [
       "dict_keys(['Prague', 'Moscow', 'Budapest', 'Kyiv', 'Warsaw', 'Bucharest', 'Saint Petersburg', 'Kraków', 'Sofia', 'Chisinau', 'Minsk', 'Riga', 'Vilnius', 'Lviv', 'Wrocław', 'Tallinn', 'Gdańsk', 'Odesa', 'Sochi', 'Bydgoszcz', 'Cluj-Napoca', 'Constanța', 'Debrecen', 'Dnipro', 'Kharkiv', 'Iași', 'Kherson', 'Krasnodar', 'Košice', 'Katowice', 'Samara', 'Kazan', 'Łódź', 'Makhachkala', 'Zaporizhzhia', 'Palanga', 'Poznań', 'Rostov-on-Don', 'Rzeszow', 'Sibiu'])"
      ]
     },
     "execution_count": 13,
     "metadata": {},
     "output_type": "execute_result"
    }
   ],
   "source": [
    "fare_dict['2020-04-02'].keys() #show the cities pulled for one day"
   ]
  },
  {
   "cell_type": "code",
   "execution_count": 14,
   "metadata": {},
   "outputs": [],
   "source": [
    "def find_cheapest_day(flight_dict):\n",
    "    cheapest = min(flight_dict.values())\n",
    "    for key in flight_dict:\n",
    "        if flight_dict[key] == cheapest:\n",
    "            return key"
   ]
  },
  {
   "cell_type": "code",
   "execution_count": 15,
   "metadata": {},
   "outputs": [],
   "source": [
    "def find_cheapest_fare(flight_dict):\n",
    "    return min(flight_dict.values())"
   ]
  },
  {
   "cell_type": "code",
   "execution_count": 16,
   "metadata": {},
   "outputs": [],
   "source": [
    "def print_cheapest(flight_dict, city_key):\n",
    "    lowest_day = find_cheapest_day(flight_dict)\n",
    "    lowest_fare = find_cheapest_fare(flight_dict)\n",
    "    print(\"The cheapest flight to {} is on {} & it costs: {}\".format(city_key, lowest_day, lowest_fare))"
   ]
  },
  {
   "cell_type": "code",
   "execution_count": 17,
   "metadata": {},
   "outputs": [],
   "source": [
    "def generate_print_prices(city_key, fare_dict, print_prices=False):\n",
    "    prices = {}\n",
    "    for key in fare_dict:\n",
    "        prices[key] = fare_dict[key][city_key]\n",
    "        if print_prices:\n",
    "            print(key, fare_dict[key][city_key])\n",
    "    return prices"
   ]
  },
  {
   "cell_type": "code",
   "execution_count": 34,
   "metadata": {},
   "outputs": [
    {
     "name": "stdout",
     "output_type": "stream",
     "text": [
      "The cheapest flight to Sofia is on 2020-03-31 & it costs: $612\n",
      "The cheapest flight to Bucharest is on 2020-03-31 & it costs: $692\n",
      "The cheapest flight to Budapest is on 2020-04-25 & it costs: $671\n"
     ]
    }
   ],
   "source": [
    "destinations = ['Sofia', 'Bucharest', 'Budapest']\n",
    "prices_dict = {}\n",
    "for x in destinations:\n",
    "    dict_title = x + \"_prices\"\n",
    "    dict_title = generate_print_prices(x, fare_dict, print_prices=False)\n",
    "    prices_dict[x] = dict_title\n",
    "    print_cheapest(dict_title, x)"
   ]
  },
  {
   "cell_type": "code",
   "execution_count": 31,
   "metadata": {},
   "outputs": [
    {
     "data": {
      "text/plain": [
       "dict_keys(['Sofia', 'Bucharest', 'Budapest'])"
      ]
     },
     "execution_count": 31,
     "metadata": {},
     "output_type": "execute_result"
    }
   ],
   "source": [
    "prices_dict.keys()"
   ]
  },
  {
   "cell_type": "code",
   "execution_count": 32,
   "metadata": {},
   "outputs": [
    {
     "name": "stdout",
     "output_type": "stream",
     "text": [
      "2020-03-29 $645\n",
      "2020-03-30 $654\n",
      "2020-03-31 $612\n",
      "2020-04-01 $616\n",
      "2020-04-02 $612\n",
      "2020-04-03 $645\n",
      "2020-04-04 $647\n",
      "2020-04-05 $675\n",
      "2020-04-06 $651\n",
      "2020-04-07 $612\n",
      "2020-04-08 $612\n",
      "2020-04-09 $645\n",
      "2020-04-10 $645\n",
      "2020-04-11 $652\n",
      "2020-04-12 $675\n",
      "2020-04-13 $650\n",
      "2020-04-14 $614\n",
      "2020-04-15 $612\n",
      "2020-04-16 $614\n",
      "2020-04-17 $614\n",
      "2020-04-18 $657\n",
      "2020-04-19 $673\n",
      "2020-04-20 $650\n",
      "2020-04-21 $612\n",
      "2020-04-22 $612\n",
      "2020-04-23 $612\n",
      "2020-04-24 $612\n",
      "2020-04-25 $657\n"
     ]
    }
   ],
   "source": [
    "city_key = 'Sofia'\n",
    "for key in fare_dict:\n",
    "    print(key, fare_dict[key][city_key])"
   ]
  },
  {
   "cell_type": "code",
   "execution_count": 21,
   "metadata": {},
   "outputs": [],
   "source": [
    "def dictionary_cleaned(prices_dictionary):\n",
    "    clean_prices = {}\n",
    "    for country, results in prices_dictionary.items():\n",
    "        country_dict = {}\n",
    "        for day in results:\n",
    "            country_dict[day] = (results[day].replace(',','').split('$')[1])\n",
    "        clean_prices[country] = country_dict\n",
    "    return clean_prices"
   ]
  },
  {
   "cell_type": "code",
   "execution_count": 22,
   "metadata": {},
   "outputs": [],
   "source": [
    "clean_dictionary = dictionary_cleaned(prices_dict)"
   ]
  },
  {
   "cell_type": "code",
   "execution_count": 23,
   "metadata": {},
   "outputs": [
    {
     "data": {
      "text/plain": [
       "<matplotlib.legend.Legend at 0x1124959e8>"
      ]
     },
     "execution_count": 23,
     "metadata": {},
     "output_type": "execute_result"
    },
    {
     "data": {
      "image/png": "[encoded data removed]",
      "text/plain": [
       "<Figure size 720x432 with 1 Axes>"
      ]
     },
     "metadata": {
      "needs_background": "light"
     },
     "output_type": "display_data"
    }
   ],
   "source": [
    "import numpy as np\n",
    "import matplotlib.pyplot as plt\n",
    "%matplotlib inline\n",
    "fig = plt.figure(figsize=(10,6))\n",
    "for destination in destinations:\n",
    "    dates = clean_dictionary[destination].keys()\n",
    "    prices = [int(x) for x in clean_dictionary[destination].values()]\n",
    "    plt.plot(dates, prices, label=destination)\n",
    "\n",
    "fig.autofmt_xdate()\n",
    "plt.legend(loc='best')"
   ]
  },
  {
   "cell_type": "code",
   "execution_count": 24,
   "metadata": {},
   "outputs": [
    {
     "data": {
      "image/png": "[encoded data removed]",
      "text/plain": [
       "<Figure size 864x720 with 4 Axes>"
      ]
     },
     "metadata": {
      "needs_background": "light"
     },
     "output_type": "display_data"
    }
   ],
   "source": [
    "import matplotlib.pyplot as plt\n",
    "%matplotlib inline\n",
    "fig, ax = plt.subplots(2, 2, figsize=(12,10))\n",
    "axis_coord = [[0,0], [0,1], [1,0], [1,1]]\n",
    "x = 0\n",
    "colors = ['green', 'red', 'blue', 'orange']\n",
    "for destination in destinations:\n",
    "    coords = axis_coord[x]\n",
    "    x_vals = clean_dictionary[destination].keys()\n",
    "    y_vals = [int(x) for x in clean_dictionary[destination].values()]\n",
    "    ax[coords[0], coords[1]].scatter(x_vals, y_vals, label = destination, color=colors[x])\n",
    "    ax[coords[0], coords[1]].set_title(\"Prices for {}\".format(destination))\n",
    "    ax[coords[0], coords[1]].set_ylim([550,950])\n",
    "    x += 1   \n",
    "fig.autofmt_xdate()"
   ]
  },
  {
   "cell_type": "code",
   "execution_count": 11,
   "metadata": {},
   "outputs": [],
   "source": [
    "western_europe_url = {}\n",
    "western_europe_url['front_url'] = 'https://www.google.com/flights?hl=en#flt=/m/0rh6k.r/m/0852h.'\n",
    "western_europe_url['middle_url'] = '*r/m/0852h./m/0rh6k.'\n",
    "western_europe_url['back_url'] = ';c:USD;e:1;ls:1w;sd:1;t:e'\n",
    "\n",
    "southern_europe_url = {}\n",
    "southern_europe_url['front_url'] = 'https://www.google.com/flights?hl=en#flt=/m/0rh6k.r/m/0250wj.'\n",
    "southern_europe_url['middle_url'] = '*r/m/0250wj./m/0rh6k.'\n",
    "southern_europe_url['back_url'] = ';c:USD;e:1;ls:1w;sd:1;t:e'\n",
    "\n",
    "eastern_europe_url = {}\n",
    "eastern_europe_url['front_url'] = 'https://www.google.com/flights?hl=en#flt=/m/0rh6k.r/m/09b69.'\n",
    "eastern_europe_url['middle_url'] = '*r/m/09b69./m/0rh6k.'\n",
    "eastern_europe_url['back_url'] = ';c:USD;e:1;ls:1w;sd:1;t:e'\n"
   ]
  },
  {
   "cell_type": "code",
   "execution_count": 329,
   "metadata": {},
   "outputs": [],
   "source": [
    "front = southern_europe_url['front_url']\n",
    "middle = southern_europe_url['middle_url']\n",
    "back = southern_europe_url['back_url']\n",
    "southern_europe_prices = extract_price_info(start_day, end_day, front, middle, back)"
   ]
  },
  {
   "cell_type": "code",
   "execution_count": 331,
   "metadata": {},
   "outputs": [],
   "source": [
    "front = western_europe_url['front_url']\n",
    "middle = western_europe_url['middle_url']\n",
    "back = western_europe_url['back_url']\n",
    "western_europe_prices = extract_price_info(start_day, end_day, front, middle, back)"
   ]
  },
  {
   "cell_type": "code",
   "execution_count": 332,
   "metadata": {},
   "outputs": [],
   "source": [
    "front = eastern_europe_url['front_url']\n",
    "middle = eastern_europe_url['middle_url']\n",
    "back = eastern_europe_url['back_url']\n",
    "eastern_europe_prices = extract_price_info(start_day, end_day, front, middle, back)"
   ]
  },
  {
   "cell_type": "code",
   "execution_count": 70,
   "metadata": {},
   "outputs": [
    {
     "data": {
      "text/plain": [
       "((array([-1.96943887, -1.56054088, -1.31312287, -1.12721645, -0.97379083,\n",
       "         -0.84042553, -0.72056163, -0.61026134, -0.50693827, -0.40877122,\n",
       "         -0.31440035, -0.2227547 , -0.13294629, -0.04419962,  0.04419962,\n",
       "          0.13294629,  0.2227547 ,  0.31440035,  0.40877122,  0.50693827,\n",
       "          0.61026134,  0.72056163,  0.84042553,  0.97379083,  1.12721645,\n",
       "          1.31312287,  1.56054088,  1.96943887]),\n",
       "  array([614, 614, 614, 614, 614, 614, 614, 614, 614, 614, 614, 614, 620,\n",
       "         645, 645, 645, 647, 647, 650, 650, 651, 652, 652, 659, 671, 675,\n",
       "         675, 675])),\n",
       " (21.66794546593902, 636.6785714285714, 0.9142890807435384))"
      ]
     },
     "execution_count": 70,
     "metadata": {},
     "output_type": "execute_result"
    },
    {
     "data": {
      "image/png": "[encoded data removed]",
      "text/plain": [
       "<Figure size 720x432 with 1 Axes>"
      ]
     },
     "metadata": {
      "needs_background": "light"
     },
     "output_type": "display_data"
    }
   ],
   "source": [
    "from scipy import stats\n",
    "prices = [int(x) for x in list(clean_dictionary['Sofia'].values())]\n",
    "fig, ax = plt.subplots(figsize=(10,6))\n",
    "stats.probplot(prices, plot=plt)"
   ]
  },
  {
   "cell_type": "code",
   "execution_count": 71,
   "metadata": {},
   "outputs": [
    {
     "name": "stdout",
     "output_type": "stream",
     "text": [
      "Total Outliers: 0\n",
      "Outlier Dates dict_keys([]) \n",
      "\n",
      "     R         Lambda\n",
      " 1   1.71488   3.02338\n",
      " 2   1.85001   3.00500\n",
      " 3   2.02310   2.98566\n"
     ]
    },
    {
     "data": {
      "image/png": "[encoded data removed]",
      "text/plain": [
       "<Figure size 720x432 with 1 Axes>"
      ]
     },
     "metadata": {
      "needs_background": "light"
     },
     "output_type": "display_data"
    }
   ],
   "source": [
    "from PyAstronomy import pyasl \n",
    " \n",
    "r = pyasl.generalizedESD(prices, 3, 0.025, fullOutput=True) \n",
    " \n",
    "print('Total Outliers:', r[0]) \n",
    " \n",
    "out_dates = {} \n",
    "for i in sorted(r[1]): \n",
    "    out_dates.update({list(dates)[i]: list(prices)[i]}) \n",
    " \n",
    "print('Outlier Dates', out_dates.keys(), '\\n') \n",
    "print('     R         Lambda') \n",
    " \n",
    "for i in range(len(r[2])): \n",
    "    print('%2d  %8.5f  %8.5f' % ((i+1), r[2][i], r[3][i])) \n",
    " \n",
    "fig, ax = plt.subplots(figsize=(10,6)) \n",
    "plt.scatter(dates, prices, color='black', s=50) \n",
    "ax.set_xticklabels(dates, rotation=-70); \n",
    " \n",
    "for i in range(r[0]): \n",
    "    plt.plot(r[1][i], prices[r[1][i]], 'rp')"
   ]
  },
  {
   "cell_type": "code",
   "execution_count": 72,
   "metadata": {},
   "outputs": [
    {
     "name": "stdout",
     "output_type": "stream",
     "text": [
      "Total Outliers: 0\n",
      "Outlier Dates dict_keys([]) \n",
      "\n",
      "     R         Lambda\n",
      " 1   2.13250   3.02338\n",
      " 2   2.38142   3.00500\n",
      " 3   2.74450   2.98566\n"
     ]
    },
    {
     "data": {
      "image/png": "[encoded data removed]",
      "text/plain": [
       "<Figure size 720x432 with 1 Axes>"
      ]
     },
     "metadata": {
      "needs_background": "light"
     },
     "output_type": "display_data"
    }
   ],
   "source": [
    "prices = [int(x) for x in list(clean_dictionary['Budapest'].values())]\n",
    "\n",
    "r = pyasl.generalizedESD(prices, 3, 0.025, fullOutput=True) \n",
    " \n",
    "print('Total Outliers:', r[0]) \n",
    " \n",
    "out_dates = {} \n",
    "for i in sorted(r[1]): \n",
    "    out_dates.update({list(dates)[i]: list(prices)[i]}) \n",
    " \n",
    "print('Outlier Dates', out_dates.keys(), '\\n') \n",
    "print('     R         Lambda') \n",
    " \n",
    "for i in range(len(r[2])): \n",
    "    print('%2d  %8.5f  %8.5f' % ((i+1), r[2][i], r[3][i])) \n",
    " \n",
    "fig, ax = plt.subplots(figsize=(10,6)) \n",
    "plt.scatter(dates, prices, color='black', s=50) \n",
    "ax.set_xticklabels(dates, rotation=-70); \n",
    " \n",
    "for i in range(r[0]): \n",
    "    plt.plot(r[1][i], prices[r[1][i]], 'rp')"
   ]
  },
  {
   "cell_type": "code",
   "execution_count": 73,
   "metadata": {},
   "outputs": [
    {
     "name": "stdout",
     "output_type": "stream",
     "text": [
      "Total Outliers: 0\n",
      "Outlier Dates dict_keys([]) \n",
      "\n",
      "     R         Lambda\n",
      " 1   1.41964   3.02338\n",
      " 2   1.50287   3.00500\n",
      " 3   1.60270   2.98566\n"
     ]
    },
    {
     "data": {
      "image/png": "[encoded data removed]",
      "text/plain": [
       "<Figure size 720x432 with 1 Axes>"
      ]
     },
     "metadata": {
      "needs_background": "light"
     },
     "output_type": "display_data"
    }
   ],
   "source": [
    "prices = [int(x) for x in list(clean_dictionary['Bucharest'].values())]\n",
    "\n",
    "r = pyasl.generalizedESD(prices, 3, 0.025, fullOutput=True) \n",
    " \n",
    "print('Total Outliers:', r[0]) \n",
    " \n",
    "out_dates = {} \n",
    "for i in sorted(r[1]): \n",
    "    out_dates.update({list(dates)[i]: list(prices)[i]}) \n",
    " \n",
    "print('Outlier Dates', out_dates.keys(), '\\n') \n",
    "print('     R         Lambda') \n",
    " \n",
    "for i in range(len(r[2])): \n",
    "    print('%2d  %8.5f  %8.5f' % ((i+1), r[2][i], r[3][i])) \n",
    " \n",
    "fig, ax = plt.subplots(figsize=(10,6)) \n",
    "plt.scatter(dates, prices, color='black', s=50) \n",
    "ax.set_xticklabels(dates, rotation=-70); \n",
    " \n",
    "for i in range(r[0]): \n",
    "    plt.plot(r[1][i], prices[r[1][i]], 'rp')"
   ]
  },
  {
   "cell_type": "code",
   "execution_count": 2,
   "metadata": {},
   "outputs": [],
   "source": [
    "import numpy as np\n",
    "import pandas as pd\n",
    "\n",
    "import datetime\n",
    "from datetime import date, timedelta\n",
    "from time import sleep\n",
    "\n",
    "start_day = '2020-03-29'\n",
    "end_day = '2020-04-12'\n",
    "\n",
    "def extract_price_info(start_day, end_day, front_url, middle_url, back_url):\n",
    "    start_date = datetime.datetime.strptime(start_day, '%Y-%m-%d')\n",
    "    end_date = datetime.datetime.strptime(end_day, '%Y-%m-%d')\n",
    "\n",
    "    #fare_dict = pd.DataFrame()\n",
    "    fare_list = []\n",
    "    \n",
    "    for i in range(7):\n",
    "        start = str(start_date).split()[0]\n",
    "        end = str(end_date).split()[0]\n",
    "    \n",
    "        #fare_dict.update({start: {}})\n",
    "    \n",
    "        variable_url = front_url + start + middle_url + end + back_url\n",
    "    \n",
    "        cards = get_cards_via_soup(variable_url)\n",
    "        day_dict = {}\n",
    "        for card in cards:\n",
    "            city, fare = convert_key_val(card)\n",
    "            day_dict[city] = int(fare)\n",
    "        \n",
    "        series = pd.Series(day_dict)\n",
    "        df = pd.DataFrame(series, columns=[start])\n",
    "        fare_list.append(df)\n",
    "        \n",
    "        start_date = start_date + timedelta(days=1)\n",
    "        end_date = end_date + timedelta(days=1)\n",
    "    \n",
    "    return fare_list"
   ]
  },
  {
   "cell_type": "code",
   "execution_count": 3,
   "metadata": {},
   "outputs": [],
   "source": [
    "def convert_key_val(card):\n",
    "    pre_city = card.select('h3')[0].text\n",
    "    city = str(pre_city)\n",
    "    pre_fare = card.select('span[class*=price]')[0].text\n",
    "    fare = str(pre_fare)\n",
    "    #Need to do this in order to ensure clean dataframe when concat the series\n",
    "    if fare == '':\n",
    "        fare = '0'\n",
    "    else:   #lets just get the comma and dollar sign out of the way\n",
    "        fare = (fare.replace(',','').split('$')[1])\n",
    "    return city, fare"
   ]
  },
  {
   "cell_type": "code",
   "execution_count": 4,
   "metadata": {},
   "outputs": [],
   "source": [
    "def get_cards_via_soup(variable_url):\n",
    "    sleep(np.random.randint(3,7))\n",
    "    \n",
    "    browser.get(variable_url)\n",
    "    \n",
    "    soup = BeautifulSoup(browser.page_source, 'html.parser')\n",
    "    \n",
    "    return soup.select('div[class*=info-container]')"
   ]
  },
  {
   "cell_type": "code",
   "execution_count": 5,
   "metadata": {},
   "outputs": [],
   "source": [
    "def combine_days(frame_list, fill_null=True):\n",
    "    first = frame_list[0]\n",
    "    \n",
    "    if (len(frame_list) == 1):\n",
    "        return first\n",
    "    \n",
    "    for x in range(1, len(frame_list)):\n",
    "        next = frame_list[x]\n",
    "        frame = pd.concat([first, next], axis=1, sort=False)\n",
    "        first = frame\n",
    "    \n",
    "    return frame.fillna(0)"
   ]
  },
  {
   "cell_type": "code",
   "execution_count": 6,
   "metadata": {},
   "outputs": [
    {
     "ename": "NameError",
     "evalue": "name 'eastern_europe_url' is not defined",
     "output_type": "error",
     "traceback": [
      "\u001b[0;31m---------------------------------------------------------------------------\u001b[0m",
      "\u001b[0;31mNameError\u001b[0m                                 Traceback (most recent call last)",
      "\u001b[0;32m<ipython-input-6-4f7ef4044bea>\u001b[0m in \u001b[0;36m<module>\u001b[0;34m\u001b[0m\n\u001b[0;32m----> 1\u001b[0;31m \u001b[0mfront\u001b[0m \u001b[0;34m=\u001b[0m \u001b[0meastern_europe_url\u001b[0m\u001b[0;34m[\u001b[0m\u001b[0;34m'front_url'\u001b[0m\u001b[0;34m]\u001b[0m\u001b[0;34m\u001b[0m\u001b[0m\n\u001b[0m\u001b[1;32m      2\u001b[0m \u001b[0mmiddle\u001b[0m \u001b[0;34m=\u001b[0m \u001b[0meastern_europe_url\u001b[0m\u001b[0;34m[\u001b[0m\u001b[0;34m'middle_url'\u001b[0m\u001b[0;34m]\u001b[0m\u001b[0;34m\u001b[0m\u001b[0m\n\u001b[1;32m      3\u001b[0m \u001b[0mback\u001b[0m \u001b[0;34m=\u001b[0m \u001b[0meastern_europe_url\u001b[0m\u001b[0;34m[\u001b[0m\u001b[0;34m'back_url'\u001b[0m\u001b[0;34m]\u001b[0m\u001b[0;34m\u001b[0m\u001b[0m\n\u001b[1;32m      4\u001b[0m \u001b[0mmeow_prices\u001b[0m \u001b[0;34m=\u001b[0m \u001b[0mextract_price_info\u001b[0m\u001b[0;34m(\u001b[0m\u001b[0mstart_day\u001b[0m\u001b[0;34m,\u001b[0m \u001b[0mend_day\u001b[0m\u001b[0;34m,\u001b[0m \u001b[0mfront\u001b[0m\u001b[0;34m,\u001b[0m \u001b[0mmiddle\u001b[0m\u001b[0;34m,\u001b[0m \u001b[0mback\u001b[0m\u001b[0;34m)\u001b[0m\u001b[0;34m\u001b[0m\u001b[0m\n",
      "\u001b[0;31mNameError\u001b[0m: name 'eastern_europe_url' is not defined"
     ]
    }
   ],
   "source": [
    "front = eastern_europe_url['front_url']\n",
    "middle = eastern_europe_url['middle_url']\n",
    "back = eastern_europe_url['back_url']\n",
    "meow_prices = extract_price_info(start_day, end_day, front, middle, back)"
   ]
  },
  {
   "cell_type": "code",
   "execution_count": 259,
   "metadata": {},
   "outputs": [
    {
     "data": {
      "text/html": [
       "<div>\n",
       "<style scoped>\n",
       "    .dataframe tbody tr th:only-of-type {\n",
       "        vertical-align: middle;\n",
       "    }\n",
       "\n",
       "    .dataframe tbody tr th {\n",
       "        vertical-align: top;\n",
       "    }\n",
       "\n",
       "    .dataframe thead th {\n",
       "        text-align: right;\n",
       "    }\n",
       "</style>\n",
       "<table border=\"1\" class=\"dataframe\">\n",
       "  <thead>\n",
       "    <tr style=\"text-align: right;\">\n",
       "      <th></th>\n",
       "      <th>2020-03-29</th>\n",
       "      <th>2020-03-30</th>\n",
       "      <th>2020-03-31</th>\n",
       "      <th>2020-04-01</th>\n",
       "      <th>2020-04-02</th>\n",
       "      <th>2020-04-03</th>\n",
       "      <th>2020-04-04</th>\n",
       "    </tr>\n",
       "  </thead>\n",
       "  <tbody>\n",
       "    <tr>\n",
       "      <th>Prague</th>\n",
       "      <td>685.0</td>\n",
       "      <td>685.0</td>\n",
       "      <td>627.0</td>\n",
       "      <td>677.0</td>\n",
       "      <td>671.0</td>\n",
       "      <td>752.0</td>\n",
       "      <td>835.0</td>\n",
       "    </tr>\n",
       "    <tr>\n",
       "      <th>Moscow</th>\n",
       "      <td>637.0</td>\n",
       "      <td>637.0</td>\n",
       "      <td>580.0</td>\n",
       "      <td>579.0</td>\n",
       "      <td>566.0</td>\n",
       "      <td>653.0</td>\n",
       "      <td>682.0</td>\n",
       "    </tr>\n",
       "    <tr>\n",
       "      <th>Budapest</th>\n",
       "      <td>707.0</td>\n",
       "      <td>707.0</td>\n",
       "      <td>677.0</td>\n",
       "      <td>711.0</td>\n",
       "      <td>711.0</td>\n",
       "      <td>754.0</td>\n",
       "      <td>758.0</td>\n",
       "    </tr>\n",
       "    <tr>\n",
       "      <th>Kyiv</th>\n",
       "      <td>650.0</td>\n",
       "      <td>650.0</td>\n",
       "      <td>636.0</td>\n",
       "      <td>691.0</td>\n",
       "      <td>677.0</td>\n",
       "      <td>677.0</td>\n",
       "      <td>677.0</td>\n",
       "    </tr>\n",
       "    <tr>\n",
       "      <th>Warsaw</th>\n",
       "      <td>773.0</td>\n",
       "      <td>773.0</td>\n",
       "      <td>695.0</td>\n",
       "      <td>738.0</td>\n",
       "      <td>738.0</td>\n",
       "      <td>813.0</td>\n",
       "      <td>845.0</td>\n",
       "    </tr>\n",
       "    <tr>\n",
       "      <th>Bucharest</th>\n",
       "      <td>713.0</td>\n",
       "      <td>713.0</td>\n",
       "      <td>692.0</td>\n",
       "      <td>692.0</td>\n",
       "      <td>696.0</td>\n",
       "      <td>752.0</td>\n",
       "      <td>812.0</td>\n",
       "    </tr>\n",
       "    <tr>\n",
       "      <th>Saint Petersburg</th>\n",
       "      <td>758.0</td>\n",
       "      <td>758.0</td>\n",
       "      <td>599.0</td>\n",
       "      <td>633.0</td>\n",
       "      <td>600.0</td>\n",
       "      <td>675.0</td>\n",
       "      <td>792.0</td>\n",
       "    </tr>\n",
       "    <tr>\n",
       "      <th>Kraków</th>\n",
       "      <td>850.0</td>\n",
       "      <td>850.0</td>\n",
       "      <td>710.0</td>\n",
       "      <td>747.0</td>\n",
       "      <td>0.0</td>\n",
       "      <td>816.0</td>\n",
       "      <td>908.0</td>\n",
       "    </tr>\n",
       "    <tr>\n",
       "      <th>Sofia</th>\n",
       "      <td>654.0</td>\n",
       "      <td>654.0</td>\n",
       "      <td>612.0</td>\n",
       "      <td>614.0</td>\n",
       "      <td>612.0</td>\n",
       "      <td>645.0</td>\n",
       "      <td>647.0</td>\n",
       "    </tr>\n",
       "    <tr>\n",
       "      <th>Chisinau</th>\n",
       "      <td>806.0</td>\n",
       "      <td>806.0</td>\n",
       "      <td>737.0</td>\n",
       "      <td>760.0</td>\n",
       "      <td>0.0</td>\n",
       "      <td>776.0</td>\n",
       "      <td>838.0</td>\n",
       "    </tr>\n",
       "    <tr>\n",
       "      <th>Minsk</th>\n",
       "      <td>1128.0</td>\n",
       "      <td>1128.0</td>\n",
       "      <td>890.0</td>\n",
       "      <td>974.0</td>\n",
       "      <td>0.0</td>\n",
       "      <td>920.0</td>\n",
       "      <td>960.0</td>\n",
       "    </tr>\n",
       "    <tr>\n",
       "      <th>Riga</th>\n",
       "      <td>806.0</td>\n",
       "      <td>806.0</td>\n",
       "      <td>691.0</td>\n",
       "      <td>703.0</td>\n",
       "      <td>703.0</td>\n",
       "      <td>816.0</td>\n",
       "      <td>853.0</td>\n",
       "    </tr>\n",
       "    <tr>\n",
       "      <th>Vilnius</th>\n",
       "      <td>804.0</td>\n",
       "      <td>804.0</td>\n",
       "      <td>689.0</td>\n",
       "      <td>739.0</td>\n",
       "      <td>739.0</td>\n",
       "      <td>814.0</td>\n",
       "      <td>879.0</td>\n",
       "    </tr>\n",
       "    <tr>\n",
       "      <th>Lviv</th>\n",
       "      <td>829.0</td>\n",
       "      <td>829.0</td>\n",
       "      <td>778.0</td>\n",
       "      <td>817.0</td>\n",
       "      <td>817.0</td>\n",
       "      <td>842.0</td>\n",
       "      <td>843.0</td>\n",
       "    </tr>\n",
       "    <tr>\n",
       "      <th>Wrocław</th>\n",
       "      <td>904.0</td>\n",
       "      <td>904.0</td>\n",
       "      <td>694.0</td>\n",
       "      <td>747.0</td>\n",
       "      <td>0.0</td>\n",
       "      <td>812.0</td>\n",
       "      <td>904.0</td>\n",
       "    </tr>\n",
       "    <tr>\n",
       "      <th>Tallinn</th>\n",
       "      <td>803.0</td>\n",
       "      <td>803.0</td>\n",
       "      <td>688.0</td>\n",
       "      <td>0.0</td>\n",
       "      <td>738.0</td>\n",
       "      <td>813.0</td>\n",
       "      <td>913.0</td>\n",
       "    </tr>\n",
       "    <tr>\n",
       "      <th>Gdańsk</th>\n",
       "      <td>839.0</td>\n",
       "      <td>839.0</td>\n",
       "      <td>729.0</td>\n",
       "      <td>740.0</td>\n",
       "      <td>0.0</td>\n",
       "      <td>0.0</td>\n",
       "      <td>909.0</td>\n",
       "    </tr>\n",
       "    <tr>\n",
       "      <th>Odesa</th>\n",
       "      <td>823.0</td>\n",
       "      <td>823.0</td>\n",
       "      <td>731.0</td>\n",
       "      <td>882.0</td>\n",
       "      <td>755.0</td>\n",
       "      <td>890.0</td>\n",
       "      <td>840.0</td>\n",
       "    </tr>\n",
       "    <tr>\n",
       "      <th>Sochi</th>\n",
       "      <td>677.0</td>\n",
       "      <td>677.0</td>\n",
       "      <td>637.0</td>\n",
       "      <td>637.0</td>\n",
       "      <td>657.0</td>\n",
       "      <td>667.0</td>\n",
       "      <td>1031.0</td>\n",
       "    </tr>\n",
       "    <tr>\n",
       "      <th>Bydgoszcz</th>\n",
       "      <td>872.0</td>\n",
       "      <td>872.0</td>\n",
       "      <td>723.0</td>\n",
       "      <td>759.0</td>\n",
       "      <td>0.0</td>\n",
       "      <td>841.0</td>\n",
       "      <td>973.0</td>\n",
       "    </tr>\n",
       "    <tr>\n",
       "      <th>Cluj-Napoca</th>\n",
       "      <td>959.0</td>\n",
       "      <td>959.0</td>\n",
       "      <td>808.0</td>\n",
       "      <td>0.0</td>\n",
       "      <td>0.0</td>\n",
       "      <td>933.0</td>\n",
       "      <td>1011.0</td>\n",
       "    </tr>\n",
       "    <tr>\n",
       "      <th>Constanța</th>\n",
       "      <td>1022.0</td>\n",
       "      <td>1022.0</td>\n",
       "      <td>982.0</td>\n",
       "      <td>0.0</td>\n",
       "      <td>1002.0</td>\n",
       "      <td>0.0</td>\n",
       "      <td>1052.0</td>\n",
       "    </tr>\n",
       "    <tr>\n",
       "      <th>Dnipro</th>\n",
       "      <td>1003.0</td>\n",
       "      <td>1003.0</td>\n",
       "      <td>839.0</td>\n",
       "      <td>902.0</td>\n",
       "      <td>0.0</td>\n",
       "      <td>1037.0</td>\n",
       "      <td>0.0</td>\n",
       "    </tr>\n",
       "    <tr>\n",
       "      <th>Kharkiv</th>\n",
       "      <td>950.0</td>\n",
       "      <td>950.0</td>\n",
       "      <td>890.0</td>\n",
       "      <td>890.0</td>\n",
       "      <td>0.0</td>\n",
       "      <td>920.0</td>\n",
       "      <td>960.0</td>\n",
       "    </tr>\n",
       "    <tr>\n",
       "      <th>Iași</th>\n",
       "      <td>948.0</td>\n",
       "      <td>948.0</td>\n",
       "      <td>768.0</td>\n",
       "      <td>0.0</td>\n",
       "      <td>0.0</td>\n",
       "      <td>0.0</td>\n",
       "      <td>0.0</td>\n",
       "    </tr>\n",
       "    <tr>\n",
       "      <th>Kherson</th>\n",
       "      <td>807.0</td>\n",
       "      <td>807.0</td>\n",
       "      <td>0.0</td>\n",
       "      <td>767.0</td>\n",
       "      <td>0.0</td>\n",
       "      <td>797.0</td>\n",
       "      <td>837.0</td>\n",
       "    </tr>\n",
       "    <tr>\n",
       "      <th>Krasnodar</th>\n",
       "      <td>770.0</td>\n",
       "      <td>770.0</td>\n",
       "      <td>0.0</td>\n",
       "      <td>730.0</td>\n",
       "      <td>0.0</td>\n",
       "      <td>760.0</td>\n",
       "      <td>800.0</td>\n",
       "    </tr>\n",
       "    <tr>\n",
       "      <th>Košice</th>\n",
       "      <td>956.0</td>\n",
       "      <td>956.0</td>\n",
       "      <td>0.0</td>\n",
       "      <td>0.0</td>\n",
       "      <td>0.0</td>\n",
       "      <td>925.0</td>\n",
       "      <td>1034.0</td>\n",
       "    </tr>\n",
       "    <tr>\n",
       "      <th>Katowice</th>\n",
       "      <td>848.0</td>\n",
       "      <td>848.0</td>\n",
       "      <td>0.0</td>\n",
       "      <td>0.0</td>\n",
       "      <td>0.0</td>\n",
       "      <td>829.0</td>\n",
       "      <td>899.0</td>\n",
       "    </tr>\n",
       "    <tr>\n",
       "      <th>Samara</th>\n",
       "      <td>673.0</td>\n",
       "      <td>673.0</td>\n",
       "      <td>0.0</td>\n",
       "      <td>633.0</td>\n",
       "      <td>0.0</td>\n",
       "      <td>683.0</td>\n",
       "      <td>0.0</td>\n",
       "    </tr>\n",
       "    <tr>\n",
       "      <th>Kazan</th>\n",
       "      <td>661.0</td>\n",
       "      <td>661.0</td>\n",
       "      <td>0.0</td>\n",
       "      <td>621.0</td>\n",
       "      <td>0.0</td>\n",
       "      <td>651.0</td>\n",
       "      <td>691.0</td>\n",
       "    </tr>\n",
       "    <tr>\n",
       "      <th>Łódź</th>\n",
       "      <td>0.0</td>\n",
       "      <td>0.0</td>\n",
       "      <td>0.0</td>\n",
       "      <td>0.0</td>\n",
       "      <td>0.0</td>\n",
       "      <td>0.0</td>\n",
       "      <td>959.0</td>\n",
       "    </tr>\n",
       "    <tr>\n",
       "      <th>Zaporizhzhia</th>\n",
       "      <td>0.0</td>\n",
       "      <td>0.0</td>\n",
       "      <td>0.0</td>\n",
       "      <td>815.0</td>\n",
       "      <td>0.0</td>\n",
       "      <td>0.0</td>\n",
       "      <td>0.0</td>\n",
       "    </tr>\n",
       "    <tr>\n",
       "      <th>Poznań</th>\n",
       "      <td>0.0</td>\n",
       "      <td>0.0</td>\n",
       "      <td>0.0</td>\n",
       "      <td>0.0</td>\n",
       "      <td>0.0</td>\n",
       "      <td>0.0</td>\n",
       "      <td>0.0</td>\n",
       "    </tr>\n",
       "    <tr>\n",
       "      <th>Rostov-on-Don</th>\n",
       "      <td>0.0</td>\n",
       "      <td>0.0</td>\n",
       "      <td>0.0</td>\n",
       "      <td>0.0</td>\n",
       "      <td>0.0</td>\n",
       "      <td>0.0</td>\n",
       "      <td>0.0</td>\n",
       "    </tr>\n",
       "    <tr>\n",
       "      <th>Rzeszow</th>\n",
       "      <td>0.0</td>\n",
       "      <td>0.0</td>\n",
       "      <td>0.0</td>\n",
       "      <td>0.0</td>\n",
       "      <td>0.0</td>\n",
       "      <td>0.0</td>\n",
       "      <td>0.0</td>\n",
       "    </tr>\n",
       "    <tr>\n",
       "      <th>Sibiu</th>\n",
       "      <td>0.0</td>\n",
       "      <td>0.0</td>\n",
       "      <td>0.0</td>\n",
       "      <td>0.0</td>\n",
       "      <td>0.0</td>\n",
       "      <td>0.0</td>\n",
       "      <td>0.0</td>\n",
       "    </tr>\n",
       "    <tr>\n",
       "      <th>Timișoara</th>\n",
       "      <td>0.0</td>\n",
       "      <td>0.0</td>\n",
       "      <td>0.0</td>\n",
       "      <td>0.0</td>\n",
       "      <td>0.0</td>\n",
       "      <td>0.0</td>\n",
       "      <td>0.0</td>\n",
       "    </tr>\n",
       "    <tr>\n",
       "      <th>Ufa</th>\n",
       "      <td>0.0</td>\n",
       "      <td>0.0</td>\n",
       "      <td>0.0</td>\n",
       "      <td>0.0</td>\n",
       "      <td>0.0</td>\n",
       "      <td>0.0</td>\n",
       "      <td>0.0</td>\n",
       "    </tr>\n",
       "    <tr>\n",
       "      <th>Varna</th>\n",
       "      <td>0.0</td>\n",
       "      <td>0.0</td>\n",
       "      <td>0.0</td>\n",
       "      <td>0.0</td>\n",
       "      <td>0.0</td>\n",
       "      <td>0.0</td>\n",
       "      <td>0.0</td>\n",
       "    </tr>\n",
       "    <tr>\n",
       "      <th>Ulyanovsk</th>\n",
       "      <td>0.0</td>\n",
       "      <td>0.0</td>\n",
       "      <td>775.0</td>\n",
       "      <td>0.0</td>\n",
       "      <td>0.0</td>\n",
       "      <td>0.0</td>\n",
       "      <td>0.0</td>\n",
       "    </tr>\n",
       "    <tr>\n",
       "      <th>Arkhangelsk</th>\n",
       "      <td>0.0</td>\n",
       "      <td>0.0</td>\n",
       "      <td>814.0</td>\n",
       "      <td>0.0</td>\n",
       "      <td>0.0</td>\n",
       "      <td>0.0</td>\n",
       "      <td>0.0</td>\n",
       "    </tr>\n",
       "    <tr>\n",
       "      <th>Debrecen</th>\n",
       "      <td>0.0</td>\n",
       "      <td>0.0</td>\n",
       "      <td>691.0</td>\n",
       "      <td>0.0</td>\n",
       "      <td>711.0</td>\n",
       "      <td>790.0</td>\n",
       "      <td>935.0</td>\n",
       "    </tr>\n",
       "    <tr>\n",
       "      <th>Belgorod</th>\n",
       "      <td>0.0</td>\n",
       "      <td>0.0</td>\n",
       "      <td>776.0</td>\n",
       "      <td>0.0</td>\n",
       "      <td>0.0</td>\n",
       "      <td>0.0</td>\n",
       "      <td>0.0</td>\n",
       "    </tr>\n",
       "    <tr>\n",
       "      <th>Nizhny Novgorod</th>\n",
       "      <td>0.0</td>\n",
       "      <td>0.0</td>\n",
       "      <td>779.0</td>\n",
       "      <td>0.0</td>\n",
       "      <td>0.0</td>\n",
       "      <td>0.0</td>\n",
       "      <td>0.0</td>\n",
       "    </tr>\n",
       "    <tr>\n",
       "      <th>Izhevsk</th>\n",
       "      <td>0.0</td>\n",
       "      <td>0.0</td>\n",
       "      <td>805.0</td>\n",
       "      <td>0.0</td>\n",
       "      <td>0.0</td>\n",
       "      <td>0.0</td>\n",
       "      <td>0.0</td>\n",
       "    </tr>\n",
       "    <tr>\n",
       "      <th>Kaliningrad</th>\n",
       "      <td>0.0</td>\n",
       "      <td>0.0</td>\n",
       "      <td>0.0</td>\n",
       "      <td>0.0</td>\n",
       "      <td>0.0</td>\n",
       "      <td>0.0</td>\n",
       "      <td>0.0</td>\n",
       "    </tr>\n",
       "    <tr>\n",
       "      <th>Makhachkala</th>\n",
       "      <td>0.0</td>\n",
       "      <td>0.0</td>\n",
       "      <td>0.0</td>\n",
       "      <td>0.0</td>\n",
       "      <td>0.0</td>\n",
       "      <td>0.0</td>\n",
       "      <td>0.0</td>\n",
       "    </tr>\n",
       "    <tr>\n",
       "      <th>Palanga</th>\n",
       "      <td>0.0</td>\n",
       "      <td>0.0</td>\n",
       "      <td>0.0</td>\n",
       "      <td>0.0</td>\n",
       "      <td>0.0</td>\n",
       "      <td>0.0</td>\n",
       "      <td>0.0</td>\n",
       "    </tr>\n",
       "    <tr>\n",
       "      <th>Szczecin</th>\n",
       "      <td>0.0</td>\n",
       "      <td>0.0</td>\n",
       "      <td>0.0</td>\n",
       "      <td>0.0</td>\n",
       "      <td>0.0</td>\n",
       "      <td>0.0</td>\n",
       "      <td>0.0</td>\n",
       "    </tr>\n",
       "  </tbody>\n",
       "</table>\n",
       "</div>"
      ],
      "text/plain": [
       "                  2020-03-29  2020-03-30  2020-03-31  2020-04-01  2020-04-02  \\\n",
       "Prague                 685.0       685.0       627.0       677.0       671.0   \n",
       "Moscow                 637.0       637.0       580.0       579.0       566.0   \n",
       "Budapest               707.0       707.0       677.0       711.0       711.0   \n",
       "Kyiv                   650.0       650.0       636.0       691.0       677.0   \n",
       "Warsaw                 773.0       773.0       695.0       738.0       738.0   \n",
       "Bucharest              713.0       713.0       692.0       692.0       696.0   \n",
       "Saint Petersburg       758.0       758.0       599.0       633.0       600.0   \n",
       "Kraków                 850.0       850.0       710.0       747.0         0.0   \n",
       "Sofia                  654.0       654.0       612.0       614.0       612.0   \n",
       "Chisinau               806.0       806.0       737.0       760.0         0.0   \n",
       "Minsk                 1128.0      1128.0       890.0       974.0         0.0   \n",
       "Riga                   806.0       806.0       691.0       703.0       703.0   \n",
       "Vilnius                804.0       804.0       689.0       739.0       739.0   \n",
       "Lviv                   829.0       829.0       778.0       817.0       817.0   \n",
       "Wrocław                904.0       904.0       694.0       747.0         0.0   \n",
       "Tallinn                803.0       803.0       688.0         0.0       738.0   \n",
       "Gdańsk                 839.0       839.0       729.0       740.0         0.0   \n",
       "Odesa                  823.0       823.0       731.0       882.0       755.0   \n",
       "Sochi                  677.0       677.0       637.0       637.0       657.0   \n",
       "Bydgoszcz              872.0       872.0       723.0       759.0         0.0   \n",
       "Cluj-Napoca            959.0       959.0       808.0         0.0         0.0   \n",
       "Constanța             1022.0      1022.0       982.0         0.0      1002.0   \n",
       "Dnipro                1003.0      1003.0       839.0       902.0         0.0   \n",
       "Kharkiv                950.0       950.0       890.0       890.0         0.0   \n",
       "Iași                   948.0       948.0       768.0         0.0         0.0   \n",
       "Kherson                807.0       807.0         0.0       767.0         0.0   \n",
       "Krasnodar              770.0       770.0         0.0       730.0         0.0   \n",
       "Košice                 956.0       956.0         0.0         0.0         0.0   \n",
       "Katowice               848.0       848.0         0.0         0.0         0.0   \n",
       "Samara                 673.0       673.0         0.0       633.0         0.0   \n",
       "Kazan                  661.0       661.0         0.0       621.0         0.0   \n",
       "Łódź                     0.0         0.0         0.0         0.0         0.0   \n",
       "Zaporizhzhia             0.0         0.0         0.0       815.0         0.0   \n",
       "Poznań                   0.0         0.0         0.0         0.0         0.0   \n",
       "Rostov-on-Don            0.0         0.0         0.0         0.0         0.0   \n",
       "Rzeszow                  0.0         0.0         0.0         0.0         0.0   \n",
       "Sibiu                    0.0         0.0         0.0         0.0         0.0   \n",
       "Timișoara                0.0         0.0         0.0         0.0         0.0   \n",
       "Ufa                      0.0         0.0         0.0         0.0         0.0   \n",
       "Varna                    0.0         0.0         0.0         0.0         0.0   \n",
       "Ulyanovsk                0.0         0.0       775.0         0.0         0.0   \n",
       "Arkhangelsk              0.0         0.0       814.0         0.0         0.0   \n",
       "Debrecen                 0.0         0.0       691.0         0.0       711.0   \n",
       "Belgorod                 0.0         0.0       776.0         0.0         0.0   \n",
       "Nizhny Novgorod          0.0         0.0       779.0         0.0         0.0   \n",
       "Izhevsk                  0.0         0.0       805.0         0.0         0.0   \n",
       "Kaliningrad              0.0         0.0         0.0         0.0         0.0   \n",
       "Makhachkala              0.0         0.0         0.0         0.0         0.0   \n",
       "Palanga                  0.0         0.0         0.0         0.0         0.0   \n",
       "Szczecin                 0.0         0.0         0.0         0.0         0.0   \n",
       "\n",
       "                  2020-04-03  2020-04-04  \n",
       "Prague                 752.0       835.0  \n",
       "Moscow                 653.0       682.0  \n",
       "Budapest               754.0       758.0  \n",
       "Kyiv                   677.0       677.0  \n",
       "Warsaw                 813.0       845.0  \n",
       "Bucharest              752.0       812.0  \n",
       "Saint Petersburg       675.0       792.0  \n",
       "Kraków                 816.0       908.0  \n",
       "Sofia                  645.0       647.0  \n",
       "Chisinau               776.0       838.0  \n",
       "Minsk                  920.0       960.0  \n",
       "Riga                   816.0       853.0  \n",
       "Vilnius                814.0       879.0  \n",
       "Lviv                   842.0       843.0  \n",
       "Wrocław                812.0       904.0  \n",
       "Tallinn                813.0       913.0  \n",
       "Gdańsk                   0.0       909.0  \n",
       "Odesa                  890.0       840.0  \n",
       "Sochi                  667.0      1031.0  \n",
       "Bydgoszcz              841.0       973.0  \n",
       "Cluj-Napoca            933.0      1011.0  \n",
       "Constanța                0.0      1052.0  \n",
       "Dnipro                1037.0         0.0  \n",
       "Kharkiv                920.0       960.0  \n",
       "Iași                     0.0         0.0  \n",
       "Kherson                797.0       837.0  \n",
       "Krasnodar              760.0       800.0  \n",
       "Košice                 925.0      1034.0  \n",
       "Katowice               829.0       899.0  \n",
       "Samara                 683.0         0.0  \n",
       "Kazan                  651.0       691.0  \n",
       "Łódź                     0.0       959.0  \n",
       "Zaporizhzhia             0.0         0.0  \n",
       "Poznań                   0.0         0.0  \n",
       "Rostov-on-Don            0.0         0.0  \n",
       "Rzeszow                  0.0         0.0  \n",
       "Sibiu                    0.0         0.0  \n",
       "Timișoara                0.0         0.0  \n",
       "Ufa                      0.0         0.0  \n",
       "Varna                    0.0         0.0  \n",
       "Ulyanovsk                0.0         0.0  \n",
       "Arkhangelsk              0.0         0.0  \n",
       "Debrecen               790.0       935.0  \n",
       "Belgorod                 0.0         0.0  \n",
       "Nizhny Novgorod          0.0         0.0  \n",
       "Izhevsk                  0.0         0.0  \n",
       "Kaliningrad              0.0         0.0  \n",
       "Makhachkala              0.0         0.0  \n",
       "Palanga                  0.0         0.0  \n",
       "Szczecin                 0.0         0.0  "
      ]
     },
     "execution_count": 259,
     "metadata": {},
     "output_type": "execute_result"
    }
   ],
   "source": [
    "meow = combine_days(meow_prices)\n",
    "meow"
   ]
  },
  {
   "cell_type": "code",
   "execution_count": 288,
   "metadata": {},
   "outputs": [
    {
     "data": {
      "text/html": [
       "<div>\n",
       "<style scoped>\n",
       "    .dataframe tbody tr th:only-of-type {\n",
       "        vertical-align: middle;\n",
       "    }\n",
       "\n",
       "    .dataframe tbody tr th {\n",
       "        vertical-align: top;\n",
       "    }\n",
       "\n",
       "    .dataframe thead th {\n",
       "        text-align: right;\n",
       "    }\n",
       "</style>\n",
       "<table border=\"1\" class=\"dataframe\">\n",
       "  <thead>\n",
       "    <tr style=\"text-align: right;\">\n",
       "      <th></th>\n",
       "      <th>2020-03-29</th>\n",
       "      <th>2020-03-30</th>\n",
       "      <th>2020-03-31</th>\n",
       "      <th>2020-04-01</th>\n",
       "      <th>2020-04-02</th>\n",
       "      <th>2020-04-03</th>\n",
       "      <th>2020-04-04</th>\n",
       "    </tr>\n",
       "  </thead>\n",
       "  <tbody>\n",
       "    <tr>\n",
       "      <th>Prague</th>\n",
       "      <td>685.0</td>\n",
       "      <td>685.0</td>\n",
       "      <td>627.0</td>\n",
       "      <td>677.0</td>\n",
       "      <td>671.0</td>\n",
       "      <td>752.0</td>\n",
       "      <td>835.0</td>\n",
       "    </tr>\n",
       "    <tr>\n",
       "      <th>Moscow</th>\n",
       "      <td>637.0</td>\n",
       "      <td>637.0</td>\n",
       "      <td>580.0</td>\n",
       "      <td>579.0</td>\n",
       "      <td>566.0</td>\n",
       "      <td>653.0</td>\n",
       "      <td>682.0</td>\n",
       "    </tr>\n",
       "    <tr>\n",
       "      <th>Budapest</th>\n",
       "      <td>707.0</td>\n",
       "      <td>707.0</td>\n",
       "      <td>677.0</td>\n",
       "      <td>711.0</td>\n",
       "      <td>711.0</td>\n",
       "      <td>754.0</td>\n",
       "      <td>758.0</td>\n",
       "    </tr>\n",
       "    <tr>\n",
       "      <th>Kyiv</th>\n",
       "      <td>650.0</td>\n",
       "      <td>650.0</td>\n",
       "      <td>636.0</td>\n",
       "      <td>691.0</td>\n",
       "      <td>677.0</td>\n",
       "      <td>677.0</td>\n",
       "      <td>677.0</td>\n",
       "    </tr>\n",
       "    <tr>\n",
       "      <th>Warsaw</th>\n",
       "      <td>773.0</td>\n",
       "      <td>773.0</td>\n",
       "      <td>695.0</td>\n",
       "      <td>738.0</td>\n",
       "      <td>738.0</td>\n",
       "      <td>813.0</td>\n",
       "      <td>845.0</td>\n",
       "    </tr>\n",
       "    <tr>\n",
       "      <th>Bucharest</th>\n",
       "      <td>713.0</td>\n",
       "      <td>713.0</td>\n",
       "      <td>692.0</td>\n",
       "      <td>692.0</td>\n",
       "      <td>696.0</td>\n",
       "      <td>752.0</td>\n",
       "      <td>812.0</td>\n",
       "    </tr>\n",
       "    <tr>\n",
       "      <th>Saint Petersburg</th>\n",
       "      <td>758.0</td>\n",
       "      <td>758.0</td>\n",
       "      <td>599.0</td>\n",
       "      <td>633.0</td>\n",
       "      <td>600.0</td>\n",
       "      <td>675.0</td>\n",
       "      <td>792.0</td>\n",
       "    </tr>\n",
       "    <tr>\n",
       "      <th>Kraków</th>\n",
       "      <td>850.0</td>\n",
       "      <td>850.0</td>\n",
       "      <td>710.0</td>\n",
       "      <td>747.0</td>\n",
       "      <td>0.0</td>\n",
       "      <td>816.0</td>\n",
       "      <td>908.0</td>\n",
       "    </tr>\n",
       "    <tr>\n",
       "      <th>Sofia</th>\n",
       "      <td>654.0</td>\n",
       "      <td>654.0</td>\n",
       "      <td>612.0</td>\n",
       "      <td>614.0</td>\n",
       "      <td>612.0</td>\n",
       "      <td>645.0</td>\n",
       "      <td>647.0</td>\n",
       "    </tr>\n",
       "    <tr>\n",
       "      <th>Chisinau</th>\n",
       "      <td>806.0</td>\n",
       "      <td>806.0</td>\n",
       "      <td>737.0</td>\n",
       "      <td>760.0</td>\n",
       "      <td>0.0</td>\n",
       "      <td>776.0</td>\n",
       "      <td>838.0</td>\n",
       "    </tr>\n",
       "  </tbody>\n",
       "</table>\n",
       "</div>"
      ],
      "text/plain": [
       "                  2020-03-29  2020-03-30  2020-03-31  2020-04-01  2020-04-02  \\\n",
       "Prague                 685.0       685.0       627.0       677.0       671.0   \n",
       "Moscow                 637.0       637.0       580.0       579.0       566.0   \n",
       "Budapest               707.0       707.0       677.0       711.0       711.0   \n",
       "Kyiv                   650.0       650.0       636.0       691.0       677.0   \n",
       "Warsaw                 773.0       773.0       695.0       738.0       738.0   \n",
       "Bucharest              713.0       713.0       692.0       692.0       696.0   \n",
       "Saint Petersburg       758.0       758.0       599.0       633.0       600.0   \n",
       "Kraków                 850.0       850.0       710.0       747.0         0.0   \n",
       "Sofia                  654.0       654.0       612.0       614.0       612.0   \n",
       "Chisinau               806.0       806.0       737.0       760.0         0.0   \n",
       "\n",
       "                  2020-04-03  2020-04-04  \n",
       "Prague                 752.0       835.0  \n",
       "Moscow                 653.0       682.0  \n",
       "Budapest               754.0       758.0  \n",
       "Kyiv                   677.0       677.0  \n",
       "Warsaw                 813.0       845.0  \n",
       "Bucharest              752.0       812.0  \n",
       "Saint Petersburg       675.0       792.0  \n",
       "Kraków                 816.0       908.0  \n",
       "Sofia                  645.0       647.0  \n",
       "Chisinau               776.0       838.0  "
      ]
     },
     "execution_count": 288,
     "metadata": {},
     "output_type": "execute_result"
    }
   ],
   "source": [
    "meow.iloc[:10, :] #row indexing by number"
   ]
  },
  {
   "cell_type": "code",
   "execution_count": 289,
   "metadata": {},
   "outputs": [
    {
     "name": "stdout",
     "output_type": "stream",
     "text": [
      "        2020-03-29  2020-03-30  2020-03-31  2020-04-01  2020-04-02  \\\n",
      "Prague       685.0       685.0       627.0       677.0       671.0   \n",
      "\n",
      "        2020-04-03  2020-04-04  \n",
      "Prague       752.0       835.0  \n"
     ]
    }
   ],
   "source": [
    "row_count = len(meow.index) # to get number of rows\n",
    "for x in range(row_count):\n",
    "    hmm = meow.iloc[[x]] #row indexing by title row\n",
    "    print(hmm)\n",
    "    break"
   ]
  },
  {
   "cell_type": "code",
   "execution_count": 286,
   "metadata": {},
   "outputs": [],
   "source": [
    "def four_destination_scatter(price_data_frame, destinations):\n",
    "    fig, ax = plt.subplots(2, 2, figsize=(12,10))\n",
    "    axis_coord = [[0,0], [0,1], [1,0], [1,1]]\n",
    "    x = 0\n",
    "    colors = ['green', 'red', 'blue', 'orange']\n",
    "    for destination in destinations:\n",
    "        coords = axis_coord[x]\n",
    "        x_vals = list(price_data_frame.columns)\n",
    "        y_vals = list(price_data_frame.loc[destination])\n",
    "        ax[coords[0], coords[1]].scatter(x_vals, y_vals, label = destination, color=colors[x])\n",
    "        ax[coords[0], coords[1]].set_title(\"Prices for {}\".format(destination))\n",
    "        ax[coords[0], coords[1]].set_ylim([100,1100])\n",
    "        x += 1   \n",
    "    fig.autofmt_xdate()"
   ]
  },
  {
   "cell_type": "code",
   "execution_count": 287,
   "metadata": {},
   "outputs": [
    {
     "data": {
      "image/png": "[encoded data removed]",
      "text/plain": [
       "<Figure size 864x720 with 4 Axes>"
      ]
     },
     "metadata": {
      "needs_background": "light"
     },
     "output_type": "display_data"
    }
   ],
   "source": [
    "import matplotlib.pyplot as plt\n",
    "%matplotlib inline\n",
    "destinations = [\"Prague\", \"Budapest\", \"Sofia\", \"Košice\"]\n",
    "four_destination_scatter(meow, destinations)"
   ]
  },
  {
   "cell_type": "code",
   "execution_count": 296,
   "metadata": {},
   "outputs": [
    {
     "name": "stdout",
     "output_type": "stream",
     "text": [
      "These are the countries for which we were able to pull prices:\n",
      "\n",
      "['Prague', 'Moscow', 'Budapest', 'Kyiv', 'Warsaw', 'Bucharest', 'Saint Petersburg', 'Kraków', 'Sofia', 'Chisinau', 'Minsk', 'Riga', 'Vilnius', 'Lviv', 'Wrocław', 'Tallinn', 'Gdańsk', 'Odesa', 'Sochi', 'Bydgoszcz', 'Cluj-Napoca', 'Constanța', 'Dnipro', 'Kharkiv', 'Iași', 'Kherson', 'Krasnodar', 'Košice', 'Katowice', 'Samara', 'Kazan', 'Łódź', 'Zaporizhzhia', 'Poznań', 'Rostov-on-Don', 'Rzeszow', 'Sibiu', 'Timișoara', 'Ufa', 'Varna', 'Ulyanovsk', 'Arkhangelsk', 'Debrecen', 'Belgorod', 'Nizhny Novgorod', 'Izhevsk', 'Kaliningrad', 'Makhachkala', 'Palanga', 'Szczecin']\n"
     ]
    }
   ],
   "source": [
    "print(\"These are the countries for which we were able to pull prices:\\n\")\n",
    "print(list(meow.index))"
   ]
  },
  {
   "cell_type": "code",
   "execution_count": 43,
   "metadata": {},
   "outputs": [],
   "source": [
    "import pandas as pd\n",
    "oneS = pd.Series(hmm1)\n",
    "twoS = pd.Series(hmm2)\n",
    "one  = pd.DataFrame(oneS, columns=['2020-03-29'])\n",
    "two = pd.DataFrame(twoS, columns=['2020-03-30'])\n",
    "meow = pd.concat([one, two], axis=1, sort=False)\n",
    "#meow.fillna(0)"
   ]
  },
  {
   "cell_type": "code",
   "execution_count": null,
   "metadata": {},
   "outputs": [],
   "source": []
  },
  {
   "cell_type": "code",
   "execution_count": null,
   "metadata": {},
   "outputs": [],
   "source": []
  }
 ],
 "metadata": {
  "kernelspec": {
   "display_name": "Python 3",
   "language": "python",
   "name": "python3"
  },
  "language_info": {
   "codemirror_mode": {
    "name": "ipython",
    "version": 3
   },
   "file_extension": ".py",
   "mimetype": "text/x-python",
   "name": "python",
   "nbconvert_exporter": "python",
   "pygments_lexer": "ipython3",
   "version": "3.7.0b1"
  }
 },
 "nbformat": 4,
 "nbformat_minor": 2
}
